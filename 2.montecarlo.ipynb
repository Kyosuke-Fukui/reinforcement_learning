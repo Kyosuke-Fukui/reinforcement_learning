{
 "cells": [
  {
   "cell_type": "code",
   "execution_count": 1,
   "metadata": {},
   "outputs": [
    {
     "name": "stdout",
     "output_type": "stream",
     "text": [
      "\n",
      "\u001b[41mS\u001b[0mFFF\n",
      "FHFH\n",
      "FFFH\n",
      "HFFG\n"
     ]
    }
   ],
   "source": [
    "#モンテカルロ法\n",
    "import gym\n",
    "env = gym.make('FrozenLake-v0', is_slippery=False) #進みたい方向に必ず進める前提\n",
    "env.render()"
   ]
  },
  {
   "cell_type": "code",
   "execution_count": 71,
   "metadata": {},
   "outputs": [],
   "source": [
    "#動的計画法との違い\n",
    "##あらかじめ決められた報酬ではなく、「ゲームをやってみた結果、もらった報酬」を元に価値計算\n",
    "##今回の価値は Q(s, a)で表される「行動の価値」\n",
    "###Gt = r(t+1)+γ*r(t+2)＋・・・各ステップの報酬に割引率をかけたものの合計\n",
    "\n",
    "# Q(s, a)←Q(s, a)+α（Gt-Q(s, a)） Gt-Q(s, a)実際の報酬と予想の報酬の差　αは学習率\n",
    "# Qは１ゲーム終了するごとに更新される\n",
    "import numpy as np\n",
    "import pandas as pd\n",
    "\n",
    "class MonteCarlo:\n",
    "    def __init__(self, env):\n",
    "        self.env = env\n",
    "        self.Q = {}\n",
    "        self.initialize()\n",
    "        self.reward_log = []\n",
    "        \n",
    "    def initialize(self):\n",
    "        for s in range(self.env.nS):\n",
    "            self.Q[s] = [0]*self.env.nA\n",
    "            \n",
    "    def policy(self,s, epsilon=0.1):\n",
    "        if np.random.random() < epsilon:\n",
    "            return np.random.randint(self.env.nA)\n",
    "        else:\n",
    "            if sum(self.Q[s])==0: #Q[s]が全て０だった場合に必ず行動が０（左）になるのを防ぐため\n",
    "                return np.random.randint(self.env.nA)\n",
    "            else:\n",
    "                return np.argmax(self.Q[s]) #sのときに最も高い報酬が見込まれる行動\n",
    "            \n",
    "    def learn(self, episode_count=1000, gamma=0.9, alpha=0.8):\n",
    "        for e in range(episode_count):\n",
    "            self.env.reset()\n",
    "            s = 0\n",
    "            done = False\n",
    "            experience_log = []\n",
    "            while not done: #GOALかHOLEに進むまで\n",
    "                #探索（ランダムに行動する）\n",
    "                #a = np.random.randint(self.env.nA) #０から３までのランダムな数字\n",
    "                #活用：Q（s, a）から最善の行動をとる\n",
    "                #探索と活用はトレードオフなので、探索10％活用９０％とする\n",
    "                a = self.policy(s)\n",
    "                \n",
    "                next_s, reward, done, _ = self.env.step(a) #遷移確率を使わない\n",
    "                experience_log.append({'state':s, 'action':a, 'reward':reward})\n",
    "                s = next_s\n",
    "            else:\n",
    "                self.reward_log.append(reward)\n",
    "                \n",
    "            for t, experience in enumerate(experience_log):\n",
    "                G = 0 #割引現在価値\n",
    "                i = 0\n",
    "                for j in range(t, len(experience_log)):\n",
    "                    G+= (gamma**i)* experience_log[j]['reward']\n",
    "                    i+=1\n",
    "                s = experience['state']\n",
    "                a = experience['action']\n",
    "                self.Q[s][a] += alpha * (G - self.Q[s][a])\n",
    "        return self.Q\n",
    "    \n",
    "    def show_reward(self, interval=50):\n",
    "        average_rewards = {}\n",
    "        for e in range(0,len(self.reward_log), interval):\n",
    "            average_rewards[e] = np.mean(self.reward_log[e:e+interval])\n",
    "            \n",
    "        return pd.Series(average_rewards)\n",
    "#      def dict_to_grid(self, V):\n",
    "#         grid = []\n",
    "#         for i in range(self.env.nrow):\n",
    "#             row = [0]*self.env.ncol\n",
    "#             grid.append(row)\n",
    "#         for s in V:\n",
    "#             row, col = self.s_to_loc(s)\n",
    "#             grid[row][col] = V[s]\n",
    "#         return pd.DataFrame(grid)"
   ]
  },
  {
   "cell_type": "code",
   "execution_count": 72,
   "metadata": {},
   "outputs": [],
   "source": [
    "mc = MonteCarlo(env)"
   ]
  },
  {
   "cell_type": "code",
   "execution_count": 73,
   "metadata": {},
   "outputs": [
    {
     "data": {
      "text/plain": [
       "{0: [3.0330263376427384e-18,\n",
       "  0.4492987424550442,\n",
       "  0.004720601028664603,\n",
       "  0.0067825853240345985],\n",
       " 1: [1.3931874725377692e-11, 0.0, 0.02624250531282124, 4.155203974946847e-31],\n",
       " 2: [1.3493329367628794e-05,\n",
       "  0.1457997013968605,\n",
       "  0.13341745359733262,\n",
       "  0.029286758205506774],\n",
       " 3: [0.5248800000000043, 0.0, 0.5760877994889749, 0.16471290586676585],\n",
       " 4: [0.5876095609779284, 0.6351047489364058, 0.0, 2.9223031010118486e-26],\n",
       " 5: [0, 0, 0, 0],\n",
       " 6: [0.0, 0.16199999997874925, 0.0, 0.026042685526056944],\n",
       " 7: [0, 0, 0, 0],\n",
       " 8: [4.104981503999991e-05, 0.0, 0.7056719886531156, 5.989817112866479e-15],\n",
       " 9: [0.6537065477031425, 0.80994204246528, 0.16199999999999992, 0.0],\n",
       " 10: [0.14556679441072107, 0.9, 0.0, 0.11818551552574463],\n",
       " 11: [0, 0, 0, 0],\n",
       " 12: [0, 0, 0, 0],\n",
       " 13: [0.0, 0.4251532115341412, 0.899990894592, 0.6163649476549138],\n",
       " 14: [0.8099999771804404, 0.8999999999999906, 1.0, 0.6868777770997383],\n",
       " 15: [0, 0, 0, 0]}"
      ]
     },
     "execution_count": 73,
     "metadata": {},
     "output_type": "execute_result"
    }
   ],
   "source": [
    "mc.learn()"
   ]
  },
  {
   "cell_type": "code",
   "execution_count": 75,
   "metadata": {},
   "outputs": [
    {
     "data": {
      "text/plain": [
       "<matplotlib.axes._subplots.AxesSubplot at 0x181c92f4dc8>"
      ]
     },
     "execution_count": 75,
     "metadata": {},
     "output_type": "execute_result"
    },
    {
     "data": {
      "image/png": "[encoded data removed]",
      "text/plain": [
       "<Figure size 432x288 with 1 Axes>"
      ]
     },
     "metadata": {
      "needs_background": "light"
     },
     "output_type": "display_data"
    }
   ],
   "source": [
    "mc.show_reward().plot()"
   ]
  },
  {
   "cell_type": "code",
   "execution_count": 66,
   "metadata": {},
   "outputs": [
    {
     "data": {
      "text/plain": [
       "0.5106862726566489"
      ]
     },
     "execution_count": 66,
     "metadata": {},
     "output_type": "execute_result"
    }
   ],
   "source": [
    "# 初めは経験が少ないのでランダムに動くため、報酬が少ないが次第に高い報酬が見込まれる行動をとれるようになる"
   ]
  },
  {
   "cell_type": "code",
   "execution_count": null,
   "metadata": {},
   "outputs": [],
   "source": []
  }
 ],
 "metadata": {
  "kernelspec": {
   "display_name": "Python 3",
   "language": "python",
   "name": "python3"
  },
  "language_info": {
   "codemirror_mode": {
    "name": "ipython",
    "version": 3
   },
   "file_extension": ".py",
   "mimetype": "text/x-python",
   "name": "python",
   "nbconvert_exporter": "python",
   "pygments_lexer": "ipython3",
   "version": "3.7.6"
  }
 },
 "nbformat": 4,
 "nbformat_minor": 4
}
